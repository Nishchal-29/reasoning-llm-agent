{
 "cells": [
  {
   "cell_type": "code",
   "execution_count": 1,
   "id": "fc2c0a6e",
   "metadata": {},
   "outputs": [
    {
     "name": "stdout",
     "output_type": "stream",
     "text": [
      "Project Root identified as: /home/devcontainers/reasoning-llm-agent\n"
     ]
    }
   ],
   "source": [
    "\n",
    "# Import the PlannerLLM and prompt builder utilities\n",
    "from agent.model_planner import PlannerLLM, create_planner_prompt\n",
    "from pathlib import Path\n",
    "import json, os\n",
    "\n",
    "PROJECT_ROOT = Path.cwd().parent\n",
    "print(f\"Project Root identified as: {PROJECT_ROOT}\")\n",
    "\n",
    "prompt_template_path = PROJECT_ROOT / \"prompts\" / \"planner_prompt.txt\"\n",
    "few_shot_examples_path = PROJECT_ROOT / \"prompts\" / \"few_shot_examples.json\"\n",
    "\n",
    "class ModelPlanner:\n",
    "    \"\"\"Small convenience wrapper matching the API used in the example.\n",
    "    - generate_plan(question, prompt_template_path, few_shot_path) -> parsed plan (list/dict) or raw text\n",
    "    \"\"\"\n",
    "    def __init__(self, model_name='google/flan-t5-small', device=None, cache_dir=None):\n",
    "        self.planner = PlannerLLM(model_name=model_name, device=device, cache_dir=cache_dir)\n",
    "        # We will lazily load the heavy HF model when generate_plan is called.\n",
    "        self._loaded = False\n",
    "\n",
    "    def generate_plan(self, question, prompt_template_path=prompt_template_path, few_shot_path=few_shot_examples_path, max_examples=6, num_return_sequences=3):\n",
    "        # Load model if not loaded\n",
    "        if not self._loaded:\n",
    "            print('Loading model (this may download weights on first run)...')\n",
    "            self.planner.load_model()\n",
    "            self._loaded = True\n",
    "\n",
    "        # Build the prompt using the template and few-shot examples\n",
    "        prompt = create_planner_prompt(question, prompt_template_path, few_shot_path, max_examples=max_examples)\n",
    "\n",
    "        # Ask the planner to generate plans (samples)\n",
    "        candidates = self.planner.generate(prompt, max_length=512, num_return_sequences=num_return_sequences)\n",
    "        # Return parsed JSONs if available; else return raw texts\n",
    "        parsed = []\n",
    "        for cand in candidates:\n",
    "            if cand.get('parsed') is not None:\n",
    "                parsed.append(cand['parsed'])\n",
    "            else:\n",
    "                parsed.append({'raw': cand.get('raw')})\n",
    "        return parsed\n",
    "\n",
    "    def close(self):\n",
    "        self.planner.close()\n"
   ]
  },
  {
   "cell_type": "code",
   "execution_count": 3,
   "id": "9f61fad0",
   "metadata": {},
   "outputs": [
    {
     "name": "stdout",
     "output_type": "stream",
     "text": [
      "=== candidate 1 ===\n",
      " a = [] b = [] for i in range(1, 10): a.append(a[i]) b.append(a[i]) c = 0 for i in range(1, 10): if a[i] == b[i]: c += 1 if c == 0: c += 1 if c == 0: c += 1 if c == 0: c += 1 if c == 0: c += 1 if c == 0: c += 1 if c == 0: c += 1 if c == 0: c += 1 if c == 0: c += 1 if c == 0: c += 1 if c == 0: c += 1 if c == 0: c += 1 if c == 0: c += 1 if c == 0: c += 1 if c == 0: c += 1 if c == 0: c += 1 if c == 0: c += 1 if c == 0: c += 1 if c == 0: c += 1 if c == 0: c += 1 if c == 0: c += 1 if c == 0: c += 1 if c == 0: c += 1 if c == 0: c += 1 if c == 0: c += 1 if c == 0: c += 1 if c == 0: c += 1 if c == 0: c += 1 if c == 0: c += 1 if c == 0: c += 1 if c == 0: c += 1 if c == 0: c += 1\n",
      "parsed: []\n",
      "=== candidate 2 ===\n",
      " a = 10 * 10 + 1 a = 10 * 10 + 1 a = 10 * 10 + 1 a = 10 * 10 + 1 a = 10 * 10 + 1 a = 10 * 10 + 1 a = 10 * 10 + 1 a = 10 * 10 + 1 a = 10 * 10 + 1 a = 10 * 10 + 1 a = 10 * 10 + 1 a = 10 * 10 + 1 a = 10 * 10 + 1 a = 10 * 10 + 1 a = 10 * 10 + 1 a = 10 * 10 + 1 a = 10 * 10 + 1 a = 10 * 10 + 1 a = 10 * 10 + 1 a = 10 * 10 + 1 a = 10 * 10 + 1 a = 10 * 10 + 1 a = 10 * 10 + 1 a = 10 * 10 + 1 a = 10 * 10 + 1 a = 10 * 10 + 1 a = 10 * 10 + 1 a = 10 * 10 + 1 a = 10 * 10 + 1 a = 10 * 10 + 1 a = 10 * 10 + 1 a = 10 * 10 + 1 a = 10 * 10 + 1 a = 10 * 10 + 1 a = 10 * 10 + 1 a = 10 * 10 + 1 a = 10 * 10 + 1 a = 10 * 10 + 1 a = 10 * 10 + 1 a = 10 * 10 + 1 a = 10 * 10 + 1 a = 10 * 10 + 1 a = 10 * 10 + 1 a = 10 * 10 + 1 a = 10 * 10 + 1 a = 10 * 10 + 1 a = 10 * 10 + 1 a = 10 * 10 + 1 a = 10 * 10 + 1 a = 10 * 10 + 1 a = 10 * 10 + 1 a = 10 * 10 + 1 a = 10 * 10 + 1 a = 10 * 10 + 1 a = 10 * 10 + 1 a = 10 * 10 + 1 a = 10 * 10 + 1 a = 10 * 10 + 1 a = 10 * 10 + 1 a = 10 * 10 + 1 a = 10 * 10 + 1 a = 10 * 10 + 1 a = 10 *\n",
      "parsed: None\n",
      "=== candidate 3 ===\n",
      " a=[] for i in range(1,10): a.append(input()) a.append(input()) a.append(input()) a.append(input()) a.append(input()) a.append(input()) a.append(input()) a.append(input()) a.append(input()) a.append(input()) a.append(input()) a.append(input()) a.append(input()) a.append(input()) a.append(input()) a.append(input()) a.append(input()) a.append(input()) a.append(input()) a.append(input()) a.append(input()) a.append(input()) a.append(input()) a.append(input()) a.append(input()) a.append(input()) a.append(input()) a.append(input()) a.append(input()) a.append(input()) a.append(input()) a.append(input()) a.append(input()) a.append(input()) a.append(input()) a.append(input()) a.append(input()) a.append(input()) a.append(input()) a.append(input()) a.append(input()) a.append(input()) a.append(input()) a.append(input()) a.append(input()) a.append(input()) a.append(input()) a.append(input()) a.append(input()) a.append(in\n",
      "parsed: []\n"
     ]
    }
   ],
   "source": [
    "question = \"A coffee shop sold 45 lattes on Monday and 20% more lattes on Tuesday. How many lattes did they sell in total over the two days?\"\n",
    "\n",
    "# Build prompt (inspect or save preview)\n",
    "prompt_text = create_planner_prompt(question, prompt_template_path, few_shot_examples_path)       \n",
    "open(\"prompt_debug.txt\",\"w\").write(prompt_text)  # full prompt for inspection\n",
    "\n",
    "# Generate from the model (stronger decoding)\n",
    "planner = PlannerLLM(model_name=\"google/flan-t5-small\")\n",
    "planner.load_model()\n",
    "candidates = planner.generate(prompt_text, max_length=512, num_return_sequences=3, temperature=0.1, top_p=1.0)\n",
    "planner.close()\n",
    "\n",
    "for i, c in enumerate(candidates, 1):\n",
    "    print(\"=== candidate\", i, \"===\\n\", c[\"raw\"][:1000])\n",
    "    print(\"parsed:\", c[\"parsed\"])\n"
   ]
  },
  {
   "cell_type": "code",
   "execution_count": null,
   "id": "6920a389",
   "metadata": {},
   "outputs": [],
   "source": []
  }
 ],
 "metadata": {
  "kernelspec": {
   "display_name": "reasoning-llm-agent",
   "language": "python",
   "name": "python3"
  },
  "language_info": {
   "codemirror_mode": {
    "name": "ipython",
    "version": 3
   },
   "file_extension": ".py",
   "mimetype": "text/x-python",
   "name": "python",
   "nbconvert_exporter": "python",
   "pygments_lexer": "ipython3",
   "version": "3.10.12"
  }
 },
 "nbformat": 4,
 "nbformat_minor": 5
}
