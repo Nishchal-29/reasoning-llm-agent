{
 "cells": [
  {
   "cell_type": "code",
   "execution_count": 1,
   "id": "fc2c0a6e",
   "metadata": {},
   "outputs": [],
   "source": [
    "\n",
    "# Import the PlannerLLM and prompt builder utilities\n",
    "# from agent.model_planner import PlannerLLM\n",
    "from pathlib import Path\n",
    "import json, os\n",
    "\n",
    "PROJECT_ROOT = Path.cwd().parent\n",
    "# print(f\"Project Root identified as: {PROJECT_ROOT}\")\n",
    "\n",
    "prompt_template_path = PROJECT_ROOT / \"prompts\" / \"planner_prompt.txt\"\n",
    "# few_shot_examples_path = PROJECT_ROOT / \"prompts\" / \"few_shot_examples.json\"\n",
    "\n",
    "# class ModelPlanner:\n",
    "#     \"\"\"Small convenience wrapper matching the API used in the example.\n",
    "#     - generate_plan(question, prompt_template_path, few_shot_path) -> parsed plan (list/dict) or raw text\n",
    "#     \"\"\"\n",
    "#     def __init__(self, model_name='google/flan-t5-small', device=None, cache_dir=None):\n",
    "#         self.planner = PlannerLLM(model_name=model_name, device=device, cache_dir=cache_dir)\n",
    "#         # We will lazily load the heavy HF model when generate_plan is called.\n",
    "#         self._loaded = False\n",
    "\n",
    "#     def generate_plan(self, question, prompt_template_path=prompt_template_path, few_shot_path=few_shot_examples_path, max_examples=6, num_return_sequences=3):\n",
    "#         # Load model if not loaded\n",
    "#         if not self._loaded:\n",
    "#             print('Loading model (this may download weights on first run)...')\n",
    "#             self.planner.load_model()\n",
    "#             self._loaded = True\n",
    "\n",
    "#         # Build the prompt using the template and few-shot examples\n",
    "#         prompt = create_planner_prompt(question, prompt_template_path, few_shot_path, max_examples=max_examples)\n",
    "\n",
    "#         # Ask the planner to generate plans (samples)\n",
    "#         candidates = self.planner.generate(prompt, max_length=512, num_return_sequences=num_return_sequences)\n",
    "#         # Return parsed JSONs if available; else return raw texts\n",
    "#         parsed = []\n",
    "#         for cand in candidates:\n",
    "#             if cand.get('parsed') is not None:\n",
    "#                 parsed.append(cand['parsed'])\n",
    "#             else:\n",
    "#                 parsed.append({'raw': cand.get('raw')})\n",
    "#         return parsed\n",
    "\n",
    "#     def close(self):\n",
    "#         self.planner.close()"
   ]
  },
  {
   "cell_type": "code",
   "execution_count": 2,
   "id": "6fd3d149",
   "metadata": {},
   "outputs": [
    {
     "name": "stderr",
     "output_type": "stream",
     "text": [
      "You are using the default legacy behaviour of the <class 'transformers.models.t5.tokenization_t5.T5Tokenizer'>. This is expected, and simply means that the `legacy` (previous) behavior will be used so nothing changes for you. If you want to use the new behaviour, set `legacy=False`. This should only be set if you understand what it means, and thoroughly read the reason why this was added as explained in https://github.com/huggingface/transformers/pull/24565\n"
     ]
    },
    {
     "name": "stdout",
     "output_type": "stream",
     "text": [
      "<pad> 45</s>\n"
     ]
    }
   ],
   "source": [
    "from transformers import T5ForConditionalGeneration, T5Tokenizer\n",
    "model = T5ForConditionalGeneration.from_pretrained(\"google/flan-t5-small\")\n",
    "tokenizer = T5Tokenizer.from_pretrained(\"google/flan-t5-small\")\n",
    "question = \"A coffee shop sold 45 lattes on Monday and 20% more lattes on Tuesday. How many lattes did they sell in total over the two days?\"\n",
    "inputs = \"Please answer to this question: \" + question\n",
    "inputs = tokenizer(inputs, return_tensors=\"pt\")\n",
    "outputs = model.generate(**inputs)\n",
    "answer = tokenizer.decode(outputs[0])\n",
    "print(answer)"
   ]
  },
  {
   "cell_type": "code",
   "execution_count": 4,
   "id": "cb1d1928",
   "metadata": {},
   "outputs": [
    {
     "name": "stdout",
     "output_type": "stream",
     "text": [
      "=== candidate 1 raw ===\n",
      "n = int(input()) a = 0 for i in range(n): if a[i] == 1: a[i] = 1 else: a[i] = 1 if a[i] == 1: print(\"step\") elif a[i] == 1: print(\"step\") elif a[i] == 1: print(\"step\") elif a[i] == 1: print(\"step\") elif a[i] == 1: print(\"step\") elif a[i] == 1: print(\"step\") elif a[i] == 1: print(\"step\") elif a[i] == 1: print(\"step\") elif a[i] == 1: print(\"step\") elif a[i] == 1: print(\"step\") elif a[i] == 1: print(\"step\") elif a[i]\n",
      "parsed => None\n",
      "=== candidate 2 raw ===\n",
      "n = int(input()) a = 0 for i in range(n): if a[i] == 1: a[i] = 1 else: a[i] = 1 if a[i] == 1: print(\"step\") elif a[i] == 1: print(\"step\") elif a[i] == 1: print(\"step\") elif a[i] == 1: print(\"step\") elif a[i] == 1: print(\"step\") elif a[i] == 1: print(\"step\") elif a[i] == 1: print(\"step\") elif a[i] == 1: print(\"step\") elif a[i] == 1: print(\"step\") elif a[i] == 1: print(\"step\") elif a[i] == 2: print(\"step\") elif a[i]\n",
      "parsed => None\n",
      "=== candidate 3 raw ===\n",
      "n = int(input()) a = 0 for i in range(n): if a[i] == 1: a[i] = 1 else: a[i] = 1 if a[i] == 1: print(\"step\") elif a[i] == 1: print(\"step\") elif a[i] == 1: print(\"step\") elif a[i] == 1: print(\"step\") elif a[i] == 1: print(\"step\") elif a[i] == 1: print(\"step\") elif a[i] == 1: print(\"step\") elif a[i] == 1: print(\"step\") elif a[i] == 1: print(\"step\") elif a[i] == 2: print(\"step\") elif a[i] == 1: print(\"step\") elif a[i]\n",
      "parsed => None\n"
     ]
    }
   ],
   "source": [
    "from agent.model_planner import PlannerLLM, create_planner_prompt\n",
    "prompt = create_planner_prompt(question, prompt_template_path)\n",
    "open(\"prompt_debug.txt\",\"w\").write(prompt)\n",
    "planner = PlannerLLM('google/flan-t5-small')\n",
    "planner.load_model()\n",
    "cands = planner.generate(prompt, max_new_tokens=256, num_return_sequences=3, num_beams=6, temperature=0.0, repetition_penalty=1.2)\n",
    "for i, c in enumerate(cands, 1):\n",
    "    print(\"=== candidate\",i,\"raw ===\")\n",
    "    print(c['raw'][:500])\n",
    "    print(\"parsed =>\", c['parsed'])\n",
    "planner.close()"
   ]
  }
 ],
 "metadata": {
  "kernelspec": {
   "display_name": "reasoning-llm-agent",
   "language": "python",
   "name": "python3"
  },
  "language_info": {
   "codemirror_mode": {
    "name": "ipython",
    "version": 3
   },
   "file_extension": ".py",
   "mimetype": "text/x-python",
   "name": "python",
   "nbconvert_exporter": "python",
   "pygments_lexer": "ipython3",
   "version": "3.10.12"
  }
 },
 "nbformat": 4,
 "nbformat_minor": 5
}
