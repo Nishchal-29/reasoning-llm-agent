{
 "cells": [
  {
   "cell_type": "code",
   "execution_count": null,
   "id": "2f9ddc67",
   "metadata": {},
   "outputs": [
    {
     "data": {
      "application/vnd.jupyter.widget-view+json": {
       "model_id": "2488ce0f0b4241f5ac1ecd75a17932fa",
       "version_major": 2,
       "version_minor": 0
      },
      "text/plain": [
       "README.md: 0.00B [00:00, ?B/s]"
      ]
     },
     "metadata": {},
     "output_type": "display_data"
    },
    {
     "data": {
      "application/vnd.jupyter.widget-view+json": {
       "model_id": "04284f4d9b514875959e1b7aead4dd78",
       "version_major": 2,
       "version_minor": 0
      },
      "text/plain": [
       "Resolving data files:   0%|          | 0/20 [00:00<?, ?it/s]"
      ]
     },
     "metadata": {},
     "output_type": "display_data"
    },
    {
     "data": {
      "application/vnd.jupyter.widget-view+json": {
       "model_id": "0dfbb8e8e6c747629871b28867dc5f12",
       "version_major": 2,
       "version_minor": 0
      },
      "text/plain": [
       "data/train-00000-of-00010.parquet:   0%|          | 0.00/214M [00:00<?, ?B/s]"
      ]
     },
     "metadata": {},
     "output_type": "display_data"
    },
    {
     "data": {
      "application/vnd.jupyter.widget-view+json": {
       "model_id": "206c5029434741e8930f9b143b898be1",
       "version_major": 2,
       "version_minor": 0
      },
      "text/plain": [
       "data/train-00001-of-00010.parquet:   0%|          | 0.00/215M [00:00<?, ?B/s]"
      ]
     },
     "metadata": {},
     "output_type": "display_data"
    },
    {
     "data": {
      "application/vnd.jupyter.widget-view+json": {
       "model_id": "0d89bf3ac259499184e39e1cff554b40",
       "version_major": 2,
       "version_minor": 0
      },
      "text/plain": [
       "data/train-00002-of-00010.parquet:   0%|          | 0.00/215M [00:00<?, ?B/s]"
      ]
     },
     "metadata": {},
     "output_type": "display_data"
    },
    {
     "data": {
      "application/vnd.jupyter.widget-view+json": {
       "model_id": "10742b37beff4dacba56fbee190d078f",
       "version_major": 2,
       "version_minor": 0
      },
      "text/plain": [
       "data/train-00003-of-00010.parquet:   0%|          | 0.00/217M [00:00<?, ?B/s]"
      ]
     },
     "metadata": {},
     "output_type": "display_data"
    },
    {
     "data": {
      "application/vnd.jupyter.widget-view+json": {
       "model_id": "57b43092b47047c585f25d1af85ee9ae",
       "version_major": 2,
       "version_minor": 0
      },
      "text/plain": [
       "data/train-00004-of-00010.parquet:   0%|          | 0.00/215M [00:00<?, ?B/s]"
      ]
     },
     "metadata": {},
     "output_type": "display_data"
    },
    {
     "data": {
      "application/vnd.jupyter.widget-view+json": {
       "model_id": "29ea407d52a44561acad86e4c4c40221",
       "version_major": 2,
       "version_minor": 0
      },
      "text/plain": [
       "data/train-00005-of-00010.parquet:   0%|          | 0.00/214M [00:00<?, ?B/s]"
      ]
     },
     "metadata": {},
     "output_type": "display_data"
    },
    {
     "data": {
      "application/vnd.jupyter.widget-view+json": {
       "model_id": "d4c7f33100084cc4bb572b50a9213057",
       "version_major": 2,
       "version_minor": 0
      },
      "text/plain": [
       "data/train-00006-of-00010.parquet:   0%|          | 0.00/216M [00:00<?, ?B/s]"
      ]
     },
     "metadata": {},
     "output_type": "display_data"
    },
    {
     "data": {
      "application/vnd.jupyter.widget-view+json": {
       "model_id": "bb83f09f075b44b2b1841cbca707af86",
       "version_major": 2,
       "version_minor": 0
      },
      "text/plain": [
       "data/train-00007-of-00010.parquet:   0%|          | 0.00/216M [00:00<?, ?B/s]"
      ]
     },
     "metadata": {},
     "output_type": "display_data"
    },
    {
     "data": {
      "application/vnd.jupyter.widget-view+json": {
       "model_id": "8803f18230434927b633741ab9274f89",
       "version_major": 2,
       "version_minor": 0
      },
      "text/plain": [
       "data/train-00008-of-00010.parquet:   0%|          | 0.00/214M [00:00<?, ?B/s]"
      ]
     },
     "metadata": {},
     "output_type": "display_data"
    },
    {
     "data": {
      "application/vnd.jupyter.widget-view+json": {
       "model_id": "1afdf4d15d714db89e240866fa60b5e1",
       "version_major": 2,
       "version_minor": 0
      },
      "text/plain": [
       "data/train-00009-of-00010.parquet:   0%|          | 0.00/215M [00:00<?, ?B/s]"
      ]
     },
     "metadata": {},
     "output_type": "display_data"
    },
    {
     "data": {
      "application/vnd.jupyter.widget-view+json": {
       "model_id": "05f691ca26394ae997fcbc5bb464d9e3",
       "version_major": 2,
       "version_minor": 0
      },
      "text/plain": [
       "Generating train split:   0%|          | 0/93733 [00:00<?, ? examples/s]"
      ]
     },
     "metadata": {},
     "output_type": "display_data"
    },
    {
     "data": {
      "text/plain": [
       "DatasetDict({\n",
       "    train: Dataset({\n",
       "        features: ['problem', 'solution', 'answer', 'problem_type', 'question_type', 'source', 'uuid', 'is_reasoning_complete', 'generations', 'correctness_math_verify', 'correctness_llama', 'finish_reasons', 'correctness_count', 'messages'],\n",
       "        num_rows: 93733\n",
       "    })\n",
       "})"
      ]
     },
     "execution_count": 1,
     "metadata": {},
     "output_type": "execute_result"
    }
   ],
   "source": [
    "from datasets import load_dataset\n",
    "ds = load_dataset(\"open-r1/OpenR1-Math-220k\", \"default\")\n",
    "ds"
   ]
  },
  {
   "cell_type": "code",
   "execution_count": 20,
   "id": "313d9878",
   "metadata": {},
   "outputs": [
    {
     "name": "stdout",
     "output_type": "stream",
     "text": [
      "DEVICE: cuda\n",
      "MODEL_DIR: /home/devcontainers/reasoning-llm-agent/outputs/flan_t5_small_lora_planner\n"
     ]
    }
   ],
   "source": [
    "MODEL_DIR = \"/home/devcontainers/reasoning-llm-agent/outputs/flan_t5_small_lora_planner\"\n",
    "PROMPT_TEMPLATE = \"/home/devcontainers/reasoning-llm-agent/prompts/planner_prompt.txt\"\n",
    "import torch\n",
    "DEVICE = \"cuda\" if torch.cuda.is_available() else \"cpu\"\n",
    "\n",
    "print(\"DEVICE:\", DEVICE)\n",
    "print(\"MODEL_DIR:\", MODEL_DIR)\n"
   ]
  },
  {
   "cell_type": "code",
   "execution_count": 18,
   "id": "32ad7f31",
   "metadata": {},
   "outputs": [
    {
     "name": "stdout",
     "output_type": "stream",
     "text": [
      "Could not load full model directly: Error(s) in loading state_dict for T5ForConditionalGeneration:\n",
      "\tsize mismatch for shared.weight: copying a param with shape torch.Size([32100, 512]) from checkpoint, the shape in current model is torch.Size([32128, 512]).\n",
      "\tsize mismatch for lm_head.weight: copying a param with shape torch.Size([32100, 512]) from checkpoint, the shape in current model is torch.Size([32128, 512]).\n",
      "Loading base model and applying PEFT adapter (base= google/flan-t5-small )\n",
      "Loaded PEFT adapter from /home/devcontainers/reasoning-llm-agent/outputs/flan_t5_small_lora_planner\n",
      "Model loaded and moved to cuda\n"
     ]
    }
   ],
   "source": [
    "# Load tokenizer + model (PEFT-aware). Two common patterns are shown.\n",
    "# Pattern A: the full model (base + LoRA weights) was saved to MODEL_DIR via trainer.save_model()\n",
    "# Pattern B: only LoRA adapter was saved; we load base model then apply PeftModel.from_pretrained\n",
    "\n",
    "from transformers import AutoTokenizer, AutoModelForSeq2SeqLM\n",
    "import torch\n",
    "from pathlib import Path\n",
    "\n",
    "model_dir = Path(MODEL_DIR)\n",
    "tokenizer = AutoTokenizer.from_pretrained(MODEL_DIR)\n",
    "\n",
    "# Attempt to load the full model first\n",
    "try:\n",
    "    model = AutoModelForSeq2SeqLM.from_pretrained(MODEL_DIR)\n",
    "    print('Loaded model directly from', MODEL_DIR)\n",
    "except Exception as e:\n",
    "    print('Could not load full model directly:', e)\n",
    "    # fall back to loading base and PEFT adapter\n",
    "    base_model_name = \"google/flan-t5-small\"\n",
    "    print('Loading base model and applying PEFT adapter (base=', base_model_name, ')')\n",
    "    base = AutoModelForSeq2SeqLM.from_pretrained(base_model_name)\n",
    "    vocab_size = len(tokenizer)\n",
    "    base.resize_token_embeddings(vocab_size)\n",
    "    try:\n",
    "        from peft import PeftModel\n",
    "        model = PeftModel.from_pretrained(base, MODEL_DIR)\n",
    "        print('Loaded PEFT adapter from', MODEL_DIR)\n",
    "    except Exception as e2:\n",
    "        raise RuntimeError(\"Failed to load PEFT adapter from MODEL_DIR: \" + str(e2))\n",
    "\n",
    "model = model.to(DEVICE)\n",
    "model.eval()\n",
    "print('Model loaded and moved to', DEVICE)"
   ]
  },
  {
   "cell_type": "code",
   "execution_count": 21,
   "id": "9f4b1022",
   "metadata": {},
   "outputs": [
    {
     "name": "stdout",
     "output_type": "stream",
     "text": [
      "Helper generate_from_prompt ready (beam search, no sampling).\n",
      "=== Prompt preview (first 800 chars)\\n\n",
      "PLease answer this question:\n",
      "You are a step-by-step REASONING PLANNER.\n",
      "\n",
      "Your job: transform a math or logic problem into a short, deterministic, executable PLAN.\n",
      "OUTPUT FORMAT (must follow exactly):\n",
      " - Produce EXACTLY one valid JSON array. No words, no commentary, nothing else.\n",
      " - The array must start with '[' and end with ']'.\n",
      " - Each element must be an object with ONLY these keys:\n",
      "     \"step\"  : integer\n",
      "     \"tool\"  : string   (one of: \"calc\",\"python\",\"sympy\",\"z3\",\"bruteforce\")\n",
      "     \"input\" : string   (the exact command the executor should run)\n",
      "     \"comment\": string  (one short sentence description)\n",
      "\n",
      "Hard rules (follow exactly):\n",
      "1) Never compute numbers in the plan text — use tools. For arithmetic use \"calc\" or \"python\", for algebra use \"sympy\", for constraints use \"z3\".\n",
      "2) The \"input\" \n",
      "\\nFull prompt saved to prompt_debug_lora.txt\n"
     ]
    }
   ],
   "source": [
    "# Wrap the model in a small helper (we reuse PlannerLLM but you can call transformers directly)\n",
    "# Here we define a small local generate function that uses beam search / greedy decoding\n",
    "from transformers import AutoTokenizer\n",
    "tokenizer = AutoTokenizer.from_pretrained(MODEL_DIR)\n",
    "from agent.model_planner import create_planner_prompt\n",
    "\n",
    "def generate_from_prompt(prompt, max_new_tokens=256, num_beams=4, num_return_sequences=1):\n",
    "    inputs = tokenizer(prompt, return_tensors='pt', truncation=True, max_length=1024).to(DEVICE)\n",
    "    gen = model.generate(**inputs,\n",
    "                         max_new_tokens=max_new_tokens,\n",
    "                         num_beams=num_beams,\n",
    "                         num_return_sequences=num_return_sequences,\n",
    "                         do_sample=False,\n",
    "                         early_stopping=True,\n",
    "                         repetition_penalty=1.2)\n",
    "    outs = [tokenizer.decode(g, skip_special_tokens=True) for g in gen]\n",
    "    return outs\n",
    "\n",
    "print('Helper generate_from_prompt ready (beam search, no sampling).')\n",
    "\n",
    "\n",
    "# Build the prompt using create_planner_prompt and preview it (first 800 chars)\n",
    "question = \"A coffee shop sold 45 lattes on Monday and 20% more lattes on Tuesday. How many lattes did they sell in total over the two days?\"\n",
    "prompt = create_planner_prompt(question, PROMPT_TEMPLATE)\n",
    "print('=== Prompt preview (first 800 chars)\\\\n')\n",
    "print(prompt[:800])\n",
    "# save full prompt for inspection\n",
    "with open('prompt_debug_lora.txt','w',encoding='utf-8') as f:\n",
    "    f.write(prompt)\n",
    "print('\\\\nFull prompt saved to prompt_debug_lora.txt')\n"
   ]
  },
  {
   "cell_type": "code",
   "execution_count": 22,
   "id": "53d05b57",
   "metadata": {},
   "outputs": [
    {
     "name": "stdout",
     "output_type": "stream",
     "text": [
      "--- Candidate 1 raw preview ---\\n [\"step\": 1, \"tool\": \"python\", \"input\": \"# STEP (needs curation): ## Solution.nreturn 'note':'needs_curation'\", \"comment\": \"## Solution.\", \"step\": 2, \"tool\": \"python\", \"input\": \"# STEP (needs curation): ## Solution.nreturn 'note':'needs_curation'\", \"comment\": \"## Solution.\", \"step\": 3, \"tool\": \"python\", \"input\": \"# STEP (needs curation): ## Solution.nreturn 'note':'needs_curation'\", \"comment\": \"## Solution.\", \"step\": 4, \"tool\": \"python\", \"input\": \"# STEP (needs curation): ## Solution.nreturn 'note':' \\nparsed: None \\n\n",
      "--- Candidate 2 raw preview ---\\n [\"step\": 1, \"tool\": \"python\", \"input\": \"# STEP (needs curation): ## Solution.nreturn 'note':'needs_curation'\", \"comment\": \"## Solution.\", \"step\": 2, \"tool\": \"python\", \"input\": \"# STEP (needs curation): ## Solution.nreturn 'note':'needs_curation'\", \"comment\": \"## Solution.\", \"step\": 3, \"tool\": \"python\", \"input\": \"# STEP (needs curation): ## Solution.nreturn 'note':'needs_curation'\", \"comment\": \"## Solution.\", \"step\": 4, \"tool\": \"python\", \"input\": \"# STEP (needs curation): ## Solution.\", \"step\": 4, \"tool \\nparsed: None \\n\n",
      "--- Candidate 3 raw preview ---\\n [\"step\": 1, \"tool\": \"python\", \"input\": \"# STEP (needs curation): ## Solution.nreturn 'note':'needs_curation'\", \"comment\": \"## Solution.\", \"step\": 2, \"tool\": \"python\", \"input\": \"# STEP (needs curation): ## Solution.nreturn 'note':'needs_curation'\", \"comment\": \"## Solution.\", \"step\": 3, \"tool\": \"python\", \"input\": \"# STEP (needs curation): ## Solution.nreturn 'note':'needs_curation'\", \"comment\": \"## Solution.\", \"step\": 4, \"tool\": \"python\", \"input\": \"# STEP (needs curation): ## Solution.nreturn 'note': \\nparsed: None \\n\n",
      "\\nSaved generation candidates to lora_generation_candidates.json\n"
     ]
    }
   ],
   "source": [
    "import json\n",
    "# Run generation and try to extract JSON using the PlannerLLM parsing helper\n",
    "from agent.model_planner import PlannerLLM\n",
    "planner = PlannerLLM(model_name=None)  # we won't call load_model(); we'll use our loaded model & tokenizer above\n",
    "\n",
    "# Use generate_from_prompt to get raw text\n",
    "cands = generate_from_prompt(prompt, max_new_tokens=256, num_beams=6, num_return_sequences=3)\n",
    "\n",
    "# Reuse parsing helpers from PlannerLLM class: instantiate and call _extract_json_from_text\n",
    "parser = PlannerLLM()  # only for parsing utilities; will not load model\n",
    "results = []\n",
    "for i, raw in enumerate(cands, 1):\n",
    "    parsed = parser._extract_json_from_text(raw)\n",
    "    if parsed is None:\n",
    "        parsed = parser._repair_and_extract(raw) if hasattr(parser, '_repair_and_extract') else None\n",
    "    results.append({'raw': raw, 'parsed': parsed})\n",
    "    print('--- Candidate', i, 'raw preview ---\\\\n', raw[:800], '\\\\nparsed:', parsed, '\\\\n')\n",
    "\n",
    "# Save candidates for later inspection\n",
    "with open('lora_generation_candidates.json', 'w', encoding='utf-8') as f:\n",
    "    json.dump(results, f, ensure_ascii=False, indent=2)\n",
    "\n",
    "print('\\\\nSaved generation candidates to lora_generation_candidates.json')\n"
   ]
  }
 ],
 "metadata": {
  "kernelspec": {
   "display_name": "reasoning-llm-agent",
   "language": "python",
   "name": "python3"
  },
  "language_info": {
   "codemirror_mode": {
    "name": "ipython",
    "version": 3
   },
   "file_extension": ".py",
   "mimetype": "text/x-python",
   "name": "python",
   "nbconvert_exporter": "python",
   "pygments_lexer": "ipython3",
   "version": "3.10.12"
  }
 },
 "nbformat": 4,
 "nbformat_minor": 5
}
